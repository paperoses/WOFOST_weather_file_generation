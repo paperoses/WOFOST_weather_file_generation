{
 "cells": [
  {
   "cell_type": "code",
   "execution_count": 1,
   "id": "b866a643-9f52-423f-b67f-527656897d30",
   "metadata": {},
   "outputs": [],
   "source": [
    "import datetime\n",
    "from pathlib import Path\n",
    "from netCDF4 import Dataset\n",
    "from time import strftime,localtime\n",
    "import numpy as np\n",
    "createVar = locals()"
   ]
  },
  {
   "cell_type": "code",
   "execution_count": 12,
   "id": "8b892162-4dbc-4422-ad6f-c1013ced1a02",
   "metadata": {},
   "outputs": [
    {
     "name": "stdout",
     "output_type": "stream",
     "text": [
      ".....................................................................................................................................................................................................................................................................................................................................................................................................................................................................................................................................................................................................................................................................................................................................................................................................................................................................................................................................................................................................................................................................................................................................................succeed!\n"
     ]
    }
   ],
   "source": [
    "\n",
    "items=['Solar-Radiation-Flux','Temperature-Air-2m-Min-24h','Temperature-Air-2m-Max-24h', \\\n",
    "       'Vapour-Pressure-Mean', 'Wind-Speed-10m-Mean', 'Precipitation-Flux']\n",
    "s_items=[\"rad\",\"tmin\",\"tmax\",\"hum\",\"wind\",\"prec\"]\n",
    "input_path = 'D:/hh/weather'\n",
    "output_path = 'D:/hh/weather/AgERA5_NC_10_10_grid'\n",
    "Path(output_path).mkdir(parents=True, exist_ok=True)\n",
    "\n",
    "parnames = {\"rad\",\"tmin\",\"tmax\",\"hum\",\"wind\",\"prec\"}\n",
    "long_name_dict=dict(hum=\"vapour pressure\",rad=\"irradiation\",tmax=\"maximum temperature\",\n",
    "                    tmin=\"minimum temperature\",wind=\"mean wind speed\",prec=\"precipitation\")\n",
    "units_dict=dict(hum=\"kPa\",rad=\"kJ m-2 d-1\",tmax=\"degrees Celsius\",\n",
    "                    tmin=\"degrees Celsius\",wind=\"m s-1\",prec=\"mm d-1\")\n",
    "dataset_attrs={\"Conventions\"}\n",
    "lon_lat_attrs={\"standard_name\",\"long_name\",\"units\",\"axis\"}\n",
    "src_file = Path(output_path) / 'temp/hum_073_039.nc'\n",
    "src_dataset = Dataset(src_file, autoscale=True)\n",
    "\n",
    "mask_path = Path(input_path) / 'mask_CMFD_V0106_B-01_010deg.nc'\n",
    "mask_dataset =  Dataset(mask_path, autoscale=True)\n",
    "mask_data = mask_dataset['mask'][0,:,:][::-1,] #mask数据纬度排序与此相反\n",
    "\n",
    "for y in range(0,1800,10):\n",
    "    for x in range(0,3600,10):\n",
    "        lat,lon = 90-y/10., -180+x/10. #[90,-90],[-180,180],mask数据纬度排序与此相反\n",
    "\n",
    "        if (y-351<0) or (x-2500<0) or(y-351>=400) or (x-2500>=700):\n",
    "            continue\n",
    "        if np.sum(mask_data[y-351:y-341,x-2500:x-2490])==0: #中国大陆相对位置\n",
    "            continue\n",
    "        print('.',end='')\n",
    "        \n",
    "        data_path = Path(output_path) / ('%03d_%03d.nc'%(lon,lat))\n",
    "        with Dataset(data_path,\"w\", format=\"NETCDF4\") as weather_dataset:\n",
    "            #复制/增加dataset的属性\n",
    "            for attr in dataset_attrs:\n",
    "                weather_dataset.__setattr__(attr,src_dataset.__getattribute__(attr))\n",
    "            weather_dataset.notes=\"Reorganized by Huang Hai for WOFOST at %s\"%strftime(\"%Y-%m-%d %H:%M:%S\", localtime())\n",
    "            #创建维度\n",
    "            weather_dataset.createDimension(\"time\",None) \n",
    "            weather_dataset.createDimension(\"lon\",10)\n",
    "            weather_dataset.createDimension(\"lat\",10)\n",
    "            #创建变量\n",
    "            times = weather_dataset.createVariable('time', np.float64, ('time',))\n",
    "            lons = weather_dataset.createVariable('lon', np.float32, ('lon',))\n",
    "            lats = weather_dataset.createVariable('lat', np.float32, ('lat',))\n",
    "            for par in s_items:\n",
    "                createVar[par+\"s\"]= weather_dataset.createVariable(par, np.float32,('time','lat','lon'))\n",
    "                                \n",
    "            #重新设定times的单位\n",
    "            times.units = \"days since 1900-01-01\"\n",
    "            times.calendar = \"proleptic_gregorian\"\n",
    "            #赋值经纬度的属性\n",
    "            for attr in lon_lat_attrs:\n",
    "                lons.__setattr__(attr,src_dataset.variables[\"lon\"].__getattribute__(attr))\n",
    "                lats.__setattr__(attr,src_dataset.variables[\"lat\"].__getattribute__(attr))            \n",
    " \n",
    "            for par in s_items:\n",
    "                createVar[\"%ss\"%par].long_name=long_name_dict[par]\n",
    "                createVar[\"%ss\"%par].units=units_dict[par]                \n",
    "\n",
    "\n",
    "            times[:]=np.arange(40177,44194+1,1) #2010-2020\n",
    "        \n",
    "            for par in s_items:\n",
    "                with Dataset(Path(output_path) / ('temp/%s_%03d_%03d.nc'%(par,lon,lat))) as createVar[\"%s_dataset\"%par]:\n",
    "                    createVar[\"%s_data\"%par]=createVar[\"%s_dataset\"%par].variables[par][:]\n",
    "                    createVar[\"%ss\"%par][:]=createVar[\"%s_data\"%par]\n",
    "                    lon_data=createVar[\"%s_dataset\"%par].variables[\"lon\"][:]\n",
    "                    lat_data=createVar[\"%s_dataset\"%par].variables[\"lat\"][:]\n",
    "            lons[:]=lon_data\n",
    "            lats[:]=lat_data                \n",
    "     \n",
    "print ('succeed!')               \n",
    "                "
   ]
  }
 ],
 "metadata": {
  "kernelspec": {
   "display_name": "Python 3 (ipykernel)",
   "language": "python",
   "name": "python3"
  },
  "language_info": {
   "codemirror_mode": {
    "name": "ipython",
    "version": 3
   },
   "file_extension": ".py",
   "mimetype": "text/x-python",
   "name": "python",
   "nbconvert_exporter": "python",
   "pygments_lexer": "ipython3",
   "version": "3.8.6"
  }
 },
 "nbformat": 4,
 "nbformat_minor": 5
}
